{
 "cells": [
  {
   "cell_type": "code",
   "execution_count": 1,
   "metadata": {
    "collapsed": true
   },
   "outputs": [],
   "source": [
    "import numpy as np\n",
    "from pandas_datareader import data as wb\n",
    "import matplotlib.pyplot as plt"
   ]
  },
  {
   "cell_type": "code",
   "execution_count": 2,
   "metadata": {
    "collapsed": true
   },
   "outputs": [],
   "source": [
    "PWR = wb.DataReader('PWR', data_source='yahoo', start='2010-1-1')"
   ]
  },
  {
   "cell_type": "code",
   "execution_count": 3,
   "metadata": {
    "collapsed": false
   },
   "outputs": [
    {
     "data": {
      "text/html": [
       "<div>\n",
       "<style scoped>\n",
       "    .dataframe tbody tr th:only-of-type {\n",
       "        vertical-align: middle;\n",
       "    }\n",
       "\n",
       "    .dataframe tbody tr th {\n",
       "        vertical-align: top;\n",
       "    }\n",
       "\n",
       "    .dataframe thead th {\n",
       "        text-align: right;\n",
       "    }\n",
       "</style>\n",
       "<table border=\"1\" class=\"dataframe\">\n",
       "  <thead>\n",
       "    <tr style=\"text-align: right;\">\n",
       "      <th></th>\n",
       "      <th>Open</th>\n",
       "      <th>High</th>\n",
       "      <th>Low</th>\n",
       "      <th>Close</th>\n",
       "      <th>Adj Close</th>\n",
       "      <th>Volume</th>\n",
       "    </tr>\n",
       "    <tr>\n",
       "      <th>Date</th>\n",
       "      <th></th>\n",
       "      <th></th>\n",
       "      <th></th>\n",
       "      <th></th>\n",
       "      <th></th>\n",
       "      <th></th>\n",
       "    </tr>\n",
       "  </thead>\n",
       "  <tbody>\n",
       "    <tr>\n",
       "      <th>2010-01-04</th>\n",
       "      <td>21.120001</td>\n",
       "      <td>21.280001</td>\n",
       "      <td>21.000000</td>\n",
       "      <td>21.240000</td>\n",
       "      <td>21.240000</td>\n",
       "      <td>2460200</td>\n",
       "    </tr>\n",
       "    <tr>\n",
       "      <th>2010-01-05</th>\n",
       "      <td>21.320000</td>\n",
       "      <td>21.500000</td>\n",
       "      <td>21.100000</td>\n",
       "      <td>21.330000</td>\n",
       "      <td>21.330000</td>\n",
       "      <td>2156000</td>\n",
       "    </tr>\n",
       "    <tr>\n",
       "      <th>2010-01-06</th>\n",
       "      <td>21.360001</td>\n",
       "      <td>22.100000</td>\n",
       "      <td>21.260000</td>\n",
       "      <td>21.940001</td>\n",
       "      <td>21.940001</td>\n",
       "      <td>2901900</td>\n",
       "    </tr>\n",
       "    <tr>\n",
       "      <th>2010-01-07</th>\n",
       "      <td>21.980000</td>\n",
       "      <td>22.350000</td>\n",
       "      <td>21.860001</td>\n",
       "      <td>22.270000</td>\n",
       "      <td>22.270000</td>\n",
       "      <td>1940800</td>\n",
       "    </tr>\n",
       "    <tr>\n",
       "      <th>2010-01-08</th>\n",
       "      <td>22.129999</td>\n",
       "      <td>22.219999</td>\n",
       "      <td>21.700001</td>\n",
       "      <td>21.860001</td>\n",
       "      <td>21.860001</td>\n",
       "      <td>2612400</td>\n",
       "    </tr>\n",
       "  </tbody>\n",
       "</table>\n",
       "</div>"
      ],
      "text/plain": [
       "                 Open       High        Low      Close  Adj Close   Volume\n",
       "Date                                                                      \n",
       "2010-01-04  21.120001  21.280001  21.000000  21.240000  21.240000  2460200\n",
       "2010-01-05  21.320000  21.500000  21.100000  21.330000  21.330000  2156000\n",
       "2010-01-06  21.360001  22.100000  21.260000  21.940001  21.940001  2901900\n",
       "2010-01-07  21.980000  22.350000  21.860001  22.270000  22.270000  1940800\n",
       "2010-01-08  22.129999  22.219999  21.700001  21.860001  21.860001  2612400"
      ]
     },
     "execution_count": 3,
     "metadata": {},
     "output_type": "execute_result"
    }
   ],
   "source": [
    "PWR.head()"
   ]
  },
  {
   "cell_type": "code",
   "execution_count": 4,
   "metadata": {
    "collapsed": false
   },
   "outputs": [
    {
     "data": {
      "text/html": [
       "<div>\n",
       "<style scoped>\n",
       "    .dataframe tbody tr th:only-of-type {\n",
       "        vertical-align: middle;\n",
       "    }\n",
       "\n",
       "    .dataframe tbody tr th {\n",
       "        vertical-align: top;\n",
       "    }\n",
       "\n",
       "    .dataframe thead th {\n",
       "        text-align: right;\n",
       "    }\n",
       "</style>\n",
       "<table border=\"1\" class=\"dataframe\">\n",
       "  <thead>\n",
       "    <tr style=\"text-align: right;\">\n",
       "      <th></th>\n",
       "      <th>Open</th>\n",
       "      <th>High</th>\n",
       "      <th>Low</th>\n",
       "      <th>Close</th>\n",
       "      <th>Adj Close</th>\n",
       "      <th>Volume</th>\n",
       "    </tr>\n",
       "    <tr>\n",
       "      <th>Date</th>\n",
       "      <th></th>\n",
       "      <th></th>\n",
       "      <th></th>\n",
       "      <th></th>\n",
       "      <th></th>\n",
       "      <th></th>\n",
       "    </tr>\n",
       "  </thead>\n",
       "  <tbody>\n",
       "    <tr>\n",
       "      <th>2017-11-07</th>\n",
       "      <td>36.180000</td>\n",
       "      <td>36.270000</td>\n",
       "      <td>35.700001</td>\n",
       "      <td>36.209999</td>\n",
       "      <td>36.209999</td>\n",
       "      <td>1684000</td>\n",
       "    </tr>\n",
       "    <tr>\n",
       "      <th>2017-11-08</th>\n",
       "      <td>36.049999</td>\n",
       "      <td>36.599998</td>\n",
       "      <td>35.840000</td>\n",
       "      <td>36.340000</td>\n",
       "      <td>36.340000</td>\n",
       "      <td>1404400</td>\n",
       "    </tr>\n",
       "    <tr>\n",
       "      <th>2017-11-09</th>\n",
       "      <td>36.060001</td>\n",
       "      <td>36.189999</td>\n",
       "      <td>35.450001</td>\n",
       "      <td>35.509998</td>\n",
       "      <td>35.509998</td>\n",
       "      <td>1261700</td>\n",
       "    </tr>\n",
       "    <tr>\n",
       "      <th>2017-11-10</th>\n",
       "      <td>35.430000</td>\n",
       "      <td>35.980000</td>\n",
       "      <td>35.380001</td>\n",
       "      <td>35.840000</td>\n",
       "      <td>35.840000</td>\n",
       "      <td>850300</td>\n",
       "    </tr>\n",
       "    <tr>\n",
       "      <th>2017-11-13</th>\n",
       "      <td>35.660000</td>\n",
       "      <td>36.790001</td>\n",
       "      <td>35.660000</td>\n",
       "      <td>36.720001</td>\n",
       "      <td>36.720001</td>\n",
       "      <td>1866268</td>\n",
       "    </tr>\n",
       "  </tbody>\n",
       "</table>\n",
       "</div>"
      ],
      "text/plain": [
       "                 Open       High        Low      Close  Adj Close   Volume\n",
       "Date                                                                      \n",
       "2017-11-07  36.180000  36.270000  35.700001  36.209999  36.209999  1684000\n",
       "2017-11-08  36.049999  36.599998  35.840000  36.340000  36.340000  1404400\n",
       "2017-11-09  36.060001  36.189999  35.450001  35.509998  35.509998  1261700\n",
       "2017-11-10  35.430000  35.980000  35.380001  35.840000  35.840000   850300\n",
       "2017-11-13  35.660000  36.790001  35.660000  36.720001  36.720001  1866268"
      ]
     },
     "execution_count": 4,
     "metadata": {},
     "output_type": "execute_result"
    }
   ],
   "source": [
    "PWR.tail()"
   ]
  },
  {
   "cell_type": "code",
   "execution_count": 6,
   "metadata": {
    "collapsed": false
   },
   "outputs": [
    {
     "name": "stdout",
     "output_type": "stream",
     "text": [
      "Date\n",
      "2010-01-04         NaN\n",
      "2010-01-05    0.004237\n",
      "2010-01-06    0.028598\n",
      "2010-01-07    0.015041\n",
      "2010-01-08   -0.018410\n",
      "2010-01-11   -0.040256\n",
      "2010-01-12   -0.018589\n",
      "2010-01-13    0.001943\n",
      "2010-01-14   -0.057683\n",
      "2010-01-15   -0.019547\n",
      "2010-01-19   -0.030430\n",
      "2010-01-20    0.009199\n",
      "2010-01-21   -0.008043\n",
      "2010-01-22   -0.007027\n",
      "2010-01-25    0.002177\n",
      "2010-01-26    0.001086\n",
      "2010-01-27    0.004341\n",
      "2010-01-28   -0.016748\n",
      "2010-01-29    0.001099\n",
      "2010-02-01    0.008782\n",
      "2010-02-02    0.000000\n",
      "2010-02-03    0.003809\n",
      "2010-02-04   -0.041192\n",
      "2010-02-05   -0.029960\n",
      "2010-02-08    0.009907\n",
      "2010-02-09    0.015580\n",
      "2010-02-10   -0.009659\n",
      "2010-02-11    0.009180\n",
      "2010-02-12   -0.005685\n",
      "2010-02-16    0.010292\n",
      "                ...   \n",
      "2017-10-03    0.001871\n",
      "2017-10-04   -0.009336\n",
      "2017-10-05    0.009693\n",
      "2017-10-06    0.001067\n",
      "2017-10-09   -0.004529\n",
      "2017-10-10   -0.000268\n",
      "2017-10-11    0.004283\n",
      "2017-10-12   -0.000533\n",
      "2017-10-13   -0.005600\n",
      "2017-10-16    0.014749\n",
      "2017-10-17   -0.010307\n",
      "2017-10-18   -0.001335\n",
      "2017-10-19   -0.006150\n",
      "2017-10-20    0.007533\n",
      "2017-10-23    0.000801\n",
      "2017-10-24    0.010672\n",
      "2017-10-25   -0.013464\n",
      "2017-10-26    0.012309\n",
      "2017-10-27    0.003965\n",
      "2017-10-30    0.002106\n",
      "2017-10-31   -0.008671\n",
      "2017-11-01   -0.010337\n",
      "2017-11-02   -0.020889\n",
      "2017-11-03   -0.024617\n",
      "2017-11-06    0.018228\n",
      "2017-11-07   -0.002754\n",
      "2017-11-08    0.003590\n",
      "2017-11-09   -0.022840\n",
      "2017-11-10    0.009293\n",
      "2017-11-13    0.024554\n",
      "Name: simple_return, Length: 1981, dtype: float64\n"
     ]
    }
   ],
   "source": [
    "PWR['simple_return'] = (PWR['Adj Close'] / PWR['Adj Close'].shift(1)) - 1\n",
    "print(PWR['simple_return'])"
   ]
  },
  {
   "cell_type": "code",
   "execution_count": null,
   "metadata": {
    "collapsed": true
   },
   "outputs": [],
   "source": []
  }
 ],
 "metadata": {
  "kernelspec": {
   "display_name": "Python 3",
   "language": "python",
   "name": "python3"
  },
  "language_info": {
   "codemirror_mode": {
    "name": "ipython",
    "version": 3
   },
   "file_extension": ".py",
   "mimetype": "text/x-python",
   "name": "python",
   "nbconvert_exporter": "python",
   "pygments_lexer": "ipython3",
   "version": "3.5.3"
  }
 },
 "nbformat": 4,
 "nbformat_minor": 1
}
