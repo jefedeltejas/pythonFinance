{
 "cells": [
  {
   "cell_type": "code",
   "execution_count": 2,
   "metadata": {
    "collapsed": true
   },
   "outputs": [],
   "source": [
    "import numpy as np\n",
    "import pandas as pd\n",
    "from pandas_datareader import data as wb\n",
    "import matplotlib.pyplot as plt"
   ]
  },
  {
   "cell_type": "code",
   "execution_count": 3,
   "metadata": {
    "collapsed": false
   },
   "outputs": [],
   "source": [
    "tickers = ['GE', 'BEI.DE']\n",
    "\n",
    "sec_data = pd.DataFrame()\n",
    "\n",
    "for t in tickers:\n",
    "    sec_data[t] = wb.DataReader(t, data_source='yahoo', start='2011-1-1')['Adj Close']"
   ]
  },
  {
   "cell_type": "code",
   "execution_count": 4,
   "metadata": {
    "collapsed": false
   },
   "outputs": [
    {
     "data": {
      "text/html": [
       "<div>\n",
       "<style scoped>\n",
       "    .dataframe tbody tr th:only-of-type {\n",
       "        vertical-align: middle;\n",
       "    }\n",
       "\n",
       "    .dataframe tbody tr th {\n",
       "        vertical-align: top;\n",
       "    }\n",
       "\n",
       "    .dataframe thead th {\n",
       "        text-align: right;\n",
       "    }\n",
       "</style>\n",
       "<table border=\"1\" class=\"dataframe\">\n",
       "  <thead>\n",
       "    <tr style=\"text-align: right;\">\n",
       "      <th></th>\n",
       "      <th>GE</th>\n",
       "      <th>BEI.DE</th>\n",
       "    </tr>\n",
       "    <tr>\n",
       "      <th>Date</th>\n",
       "      <th></th>\n",
       "      <th></th>\n",
       "    </tr>\n",
       "  </thead>\n",
       "  <tbody>\n",
       "    <tr>\n",
       "      <th>2017-11-22</th>\n",
       "      <td>18.150000</td>\n",
       "      <td>97.360001</td>\n",
       "    </tr>\n",
       "    <tr>\n",
       "      <th>2017-11-24</th>\n",
       "      <td>18.190001</td>\n",
       "      <td>97.199997</td>\n",
       "    </tr>\n",
       "    <tr>\n",
       "      <th>2017-11-27</th>\n",
       "      <td>18.120001</td>\n",
       "      <td>96.930000</td>\n",
       "    </tr>\n",
       "    <tr>\n",
       "      <th>2017-11-28</th>\n",
       "      <td>18.410000</td>\n",
       "      <td>98.459999</td>\n",
       "    </tr>\n",
       "    <tr>\n",
       "      <th>2017-11-29</th>\n",
       "      <td>18.395000</td>\n",
       "      <td>98.379997</td>\n",
       "    </tr>\n",
       "  </tbody>\n",
       "</table>\n",
       "</div>"
      ],
      "text/plain": [
       "                   GE     BEI.DE\n",
       "Date                            \n",
       "2017-11-22  18.150000  97.360001\n",
       "2017-11-24  18.190001  97.199997\n",
       "2017-11-27  18.120001  96.930000\n",
       "2017-11-28  18.410000  98.459999\n",
       "2017-11-29  18.395000  98.379997"
      ]
     },
     "execution_count": 4,
     "metadata": {},
     "output_type": "execute_result"
    }
   ],
   "source": [
    "sec_data.tail()"
   ]
  },
  {
   "cell_type": "code",
   "execution_count": 5,
   "metadata": {
    "collapsed": true
   },
   "outputs": [],
   "source": [
    "sec_returns = np.log(sec_data / sec_data.shift(1))"
   ]
  },
  {
   "cell_type": "code",
   "execution_count": 6,
   "metadata": {
    "collapsed": false
   },
   "outputs": [
    {
     "data": {
      "text/html": [
       "<div>\n",
       "<style scoped>\n",
       "    .dataframe tbody tr th:only-of-type {\n",
       "        vertical-align: middle;\n",
       "    }\n",
       "\n",
       "    .dataframe tbody tr th {\n",
       "        vertical-align: top;\n",
       "    }\n",
       "\n",
       "    .dataframe thead th {\n",
       "        text-align: right;\n",
       "    }\n",
       "</style>\n",
       "<table border=\"1\" class=\"dataframe\">\n",
       "  <thead>\n",
       "    <tr style=\"text-align: right;\">\n",
       "      <th></th>\n",
       "      <th>GE</th>\n",
       "      <th>BEI.DE</th>\n",
       "    </tr>\n",
       "    <tr>\n",
       "      <th>Date</th>\n",
       "      <th></th>\n",
       "      <th></th>\n",
       "    </tr>\n",
       "  </thead>\n",
       "  <tbody>\n",
       "    <tr>\n",
       "      <th>2011-01-03</th>\n",
       "      <td>NaN</td>\n",
       "      <td>NaN</td>\n",
       "    </tr>\n",
       "    <tr>\n",
       "      <th>2011-01-04</th>\n",
       "      <td>0.017891</td>\n",
       "      <td>0.011195</td>\n",
       "    </tr>\n",
       "    <tr>\n",
       "      <th>2011-01-05</th>\n",
       "      <td>0.001611</td>\n",
       "      <td>0.026110</td>\n",
       "    </tr>\n",
       "    <tr>\n",
       "      <th>2011-01-06</th>\n",
       "      <td>-0.004301</td>\n",
       "      <td>-0.006787</td>\n",
       "    </tr>\n",
       "    <tr>\n",
       "      <th>2011-01-07</th>\n",
       "      <td>-0.007029</td>\n",
       "      <td>-0.012286</td>\n",
       "    </tr>\n",
       "    <tr>\n",
       "      <th>2011-01-10</th>\n",
       "      <td>0.004331</td>\n",
       "      <td>-0.009794</td>\n",
       "    </tr>\n",
       "    <tr>\n",
       "      <th>2011-01-11</th>\n",
       "      <td>0.006462</td>\n",
       "      <td>-0.010619</td>\n",
       "    </tr>\n",
       "    <tr>\n",
       "      <th>2011-01-12</th>\n",
       "      <td>0.002145</td>\n",
       "      <td>0.004237</td>\n",
       "    </tr>\n",
       "    <tr>\n",
       "      <th>2011-01-13</th>\n",
       "      <td>-0.003756</td>\n",
       "      <td>-0.007153</td>\n",
       "    </tr>\n",
       "    <tr>\n",
       "      <th>2011-01-14</th>\n",
       "      <td>0.011758</td>\n",
       "      <td>-0.009658</td>\n",
       "    </tr>\n",
       "    <tr>\n",
       "      <th>2011-01-18</th>\n",
       "      <td>-0.011758</td>\n",
       "      <td>0.000859</td>\n",
       "    </tr>\n",
       "    <tr>\n",
       "      <th>2011-01-19</th>\n",
       "      <td>-0.014622</td>\n",
       "      <td>-0.018333</td>\n",
       "    </tr>\n",
       "    <tr>\n",
       "      <th>2011-01-20</th>\n",
       "      <td>0.005441</td>\n",
       "      <td>-0.005768</td>\n",
       "    </tr>\n",
       "    <tr>\n",
       "      <th>2011-01-21</th>\n",
       "      <td>0.068667</td>\n",
       "      <td>0.003389</td>\n",
       "    </tr>\n",
       "    <tr>\n",
       "      <th>2011-01-24</th>\n",
       "      <td>0.015083</td>\n",
       "      <td>0.006993</td>\n",
       "    </tr>\n",
       "    <tr>\n",
       "      <th>2011-01-25</th>\n",
       "      <td>-0.002999</td>\n",
       "      <td>-0.002866</td>\n",
       "    </tr>\n",
       "    <tr>\n",
       "      <th>2011-01-26</th>\n",
       "      <td>-0.003007</td>\n",
       "      <td>0.002742</td>\n",
       "    </tr>\n",
       "    <tr>\n",
       "      <th>2011-01-27</th>\n",
       "      <td>0.017911</td>\n",
       "      <td>-0.001744</td>\n",
       "    </tr>\n",
       "    <tr>\n",
       "      <th>2011-01-28</th>\n",
       "      <td>-0.003953</td>\n",
       "      <td>-0.002622</td>\n",
       "    </tr>\n",
       "    <tr>\n",
       "      <th>2011-01-31</th>\n",
       "      <td>-0.002975</td>\n",
       "      <td>0.000500</td>\n",
       "    </tr>\n",
       "    <tr>\n",
       "      <th>2011-02-01</th>\n",
       "      <td>0.032245</td>\n",
       "      <td>0.021017</td>\n",
       "    </tr>\n",
       "    <tr>\n",
       "      <th>2011-02-02</th>\n",
       "      <td>-0.004337</td>\n",
       "      <td>0.008285</td>\n",
       "    </tr>\n",
       "    <tr>\n",
       "      <th>2011-02-03</th>\n",
       "      <td>0.001930</td>\n",
       "      <td>0.004600</td>\n",
       "    </tr>\n",
       "    <tr>\n",
       "      <th>2011-02-04</th>\n",
       "      <td>-0.009199</td>\n",
       "      <td>0.010811</td>\n",
       "    </tr>\n",
       "    <tr>\n",
       "      <th>2011-02-07</th>\n",
       "      <td>0.014966</td>\n",
       "      <td>-0.007917</td>\n",
       "    </tr>\n",
       "    <tr>\n",
       "      <th>2011-02-08</th>\n",
       "      <td>0.019455</td>\n",
       "      <td>0.013872</td>\n",
       "    </tr>\n",
       "    <tr>\n",
       "      <th>2011-02-09</th>\n",
       "      <td>0.001409</td>\n",
       "      <td>-0.010026</td>\n",
       "    </tr>\n",
       "    <tr>\n",
       "      <th>2011-02-10</th>\n",
       "      <td>-0.001879</td>\n",
       "      <td>-0.005895</td>\n",
       "    </tr>\n",
       "    <tr>\n",
       "      <th>2011-02-11</th>\n",
       "      <td>0.002817</td>\n",
       "      <td>0.002170</td>\n",
       "    </tr>\n",
       "    <tr>\n",
       "      <th>2011-02-14</th>\n",
       "      <td>0.007939</td>\n",
       "      <td>-0.000241</td>\n",
       "    </tr>\n",
       "    <tr>\n",
       "      <th>...</th>\n",
       "      <td>...</td>\n",
       "      <td>...</td>\n",
       "    </tr>\n",
       "    <tr>\n",
       "      <th>2017-10-18</th>\n",
       "      <td>-0.003023</td>\n",
       "      <td>0.007565</td>\n",
       "    </tr>\n",
       "    <tr>\n",
       "      <th>2017-10-19</th>\n",
       "      <td>0.019701</td>\n",
       "      <td>-0.012067</td>\n",
       "    </tr>\n",
       "    <tr>\n",
       "      <th>2017-10-20</th>\n",
       "      <td>0.010546</td>\n",
       "      <td>-0.011453</td>\n",
       "    </tr>\n",
       "    <tr>\n",
       "      <th>2017-10-23</th>\n",
       "      <td>-0.065462</td>\n",
       "      <td>-0.000217</td>\n",
       "    </tr>\n",
       "    <tr>\n",
       "      <th>2017-10-24</th>\n",
       "      <td>-0.019453</td>\n",
       "      <td>-0.009831</td>\n",
       "    </tr>\n",
       "    <tr>\n",
       "      <th>2017-10-25</th>\n",
       "      <td>-0.017977</td>\n",
       "      <td>-0.001538</td>\n",
       "    </tr>\n",
       "    <tr>\n",
       "      <th>2017-10-26</th>\n",
       "      <td>-0.008407</td>\n",
       "      <td>0.058501</td>\n",
       "    </tr>\n",
       "    <tr>\n",
       "      <th>2017-10-27</th>\n",
       "      <td>-0.025173</td>\n",
       "      <td>-0.000726</td>\n",
       "    </tr>\n",
       "    <tr>\n",
       "      <th>2017-10-30</th>\n",
       "      <td>-0.018447</td>\n",
       "      <td>-0.000727</td>\n",
       "    </tr>\n",
       "    <tr>\n",
       "      <th>2017-10-31</th>\n",
       "      <td>-0.012325</td>\n",
       "      <td>0.000000</td>\n",
       "    </tr>\n",
       "    <tr>\n",
       "      <th>2017-11-01</th>\n",
       "      <td>-0.006969</td>\n",
       "      <td>0.019130</td>\n",
       "    </tr>\n",
       "    <tr>\n",
       "      <th>2017-11-02</th>\n",
       "      <td>-0.004004</td>\n",
       "      <td>-0.011373</td>\n",
       "    </tr>\n",
       "    <tr>\n",
       "      <th>2017-11-03</th>\n",
       "      <td>0.009980</td>\n",
       "      <td>0.008516</td>\n",
       "    </tr>\n",
       "    <tr>\n",
       "      <th>2017-11-06</th>\n",
       "      <td>-0.000497</td>\n",
       "      <td>-0.002865</td>\n",
       "    </tr>\n",
       "    <tr>\n",
       "      <th>2017-11-07</th>\n",
       "      <td>0.003966</td>\n",
       "      <td>-0.006270</td>\n",
       "    </tr>\n",
       "    <tr>\n",
       "      <th>2017-11-08</th>\n",
       "      <td>-0.004463</td>\n",
       "      <td>0.014128</td>\n",
       "    </tr>\n",
       "    <tr>\n",
       "      <th>2017-11-09</th>\n",
       "      <td>-0.006482</td>\n",
       "      <td>-0.005607</td>\n",
       "    </tr>\n",
       "    <tr>\n",
       "      <th>2017-11-10</th>\n",
       "      <td>0.024705</td>\n",
       "      <td>-0.004200</td>\n",
       "    </tr>\n",
       "    <tr>\n",
       "      <th>2017-11-13</th>\n",
       "      <td>-0.074446</td>\n",
       "      <td>-0.006075</td>\n",
       "    </tr>\n",
       "    <tr>\n",
       "      <th>2017-11-14</th>\n",
       "      <td>-0.060690</td>\n",
       "      <td>-0.001964</td>\n",
       "    </tr>\n",
       "    <tr>\n",
       "      <th>2017-11-15</th>\n",
       "      <td>0.019912</td>\n",
       "      <td>-0.002176</td>\n",
       "    </tr>\n",
       "    <tr>\n",
       "      <th>2017-11-16</th>\n",
       "      <td>-0.000548</td>\n",
       "      <td>0.004450</td>\n",
       "    </tr>\n",
       "    <tr>\n",
       "      <th>2017-11-17</th>\n",
       "      <td>-0.002194</td>\n",
       "      <td>-0.003102</td>\n",
       "    </tr>\n",
       "    <tr>\n",
       "      <th>2017-11-20</th>\n",
       "      <td>-0.012711</td>\n",
       "      <td>0.012352</td>\n",
       "    </tr>\n",
       "    <tr>\n",
       "      <th>2017-11-21</th>\n",
       "      <td>-0.008378</td>\n",
       "      <td>0.004491</td>\n",
       "    </tr>\n",
       "    <tr>\n",
       "      <th>2017-11-22</th>\n",
       "      <td>0.017788</td>\n",
       "      <td>-0.008489</td>\n",
       "    </tr>\n",
       "    <tr>\n",
       "      <th>2017-11-24</th>\n",
       "      <td>0.002201</td>\n",
       "      <td>-0.001645</td>\n",
       "    </tr>\n",
       "    <tr>\n",
       "      <th>2017-11-27</th>\n",
       "      <td>-0.003856</td>\n",
       "      <td>-0.002782</td>\n",
       "    </tr>\n",
       "    <tr>\n",
       "      <th>2017-11-28</th>\n",
       "      <td>0.015878</td>\n",
       "      <td>0.015661</td>\n",
       "    </tr>\n",
       "    <tr>\n",
       "      <th>2017-11-29</th>\n",
       "      <td>-0.000815</td>\n",
       "      <td>-0.000813</td>\n",
       "    </tr>\n",
       "  </tbody>\n",
       "</table>\n",
       "<p>1740 rows × 2 columns</p>\n",
       "</div>"
      ],
      "text/plain": [
       "                  GE    BEI.DE\n",
       "Date                          \n",
       "2011-01-03       NaN       NaN\n",
       "2011-01-04  0.017891  0.011195\n",
       "2011-01-05  0.001611  0.026110\n",
       "2011-01-06 -0.004301 -0.006787\n",
       "2011-01-07 -0.007029 -0.012286\n",
       "2011-01-10  0.004331 -0.009794\n",
       "2011-01-11  0.006462 -0.010619\n",
       "2011-01-12  0.002145  0.004237\n",
       "2011-01-13 -0.003756 -0.007153\n",
       "2011-01-14  0.011758 -0.009658\n",
       "2011-01-18 -0.011758  0.000859\n",
       "2011-01-19 -0.014622 -0.018333\n",
       "2011-01-20  0.005441 -0.005768\n",
       "2011-01-21  0.068667  0.003389\n",
       "2011-01-24  0.015083  0.006993\n",
       "2011-01-25 -0.002999 -0.002866\n",
       "2011-01-26 -0.003007  0.002742\n",
       "2011-01-27  0.017911 -0.001744\n",
       "2011-01-28 -0.003953 -0.002622\n",
       "2011-01-31 -0.002975  0.000500\n",
       "2011-02-01  0.032245  0.021017\n",
       "2011-02-02 -0.004337  0.008285\n",
       "2011-02-03  0.001930  0.004600\n",
       "2011-02-04 -0.009199  0.010811\n",
       "2011-02-07  0.014966 -0.007917\n",
       "2011-02-08  0.019455  0.013872\n",
       "2011-02-09  0.001409 -0.010026\n",
       "2011-02-10 -0.001879 -0.005895\n",
       "2011-02-11  0.002817  0.002170\n",
       "2011-02-14  0.007939 -0.000241\n",
       "...              ...       ...\n",
       "2017-10-18 -0.003023  0.007565\n",
       "2017-10-19  0.019701 -0.012067\n",
       "2017-10-20  0.010546 -0.011453\n",
       "2017-10-23 -0.065462 -0.000217\n",
       "2017-10-24 -0.019453 -0.009831\n",
       "2017-10-25 -0.017977 -0.001538\n",
       "2017-10-26 -0.008407  0.058501\n",
       "2017-10-27 -0.025173 -0.000726\n",
       "2017-10-30 -0.018447 -0.000727\n",
       "2017-10-31 -0.012325  0.000000\n",
       "2017-11-01 -0.006969  0.019130\n",
       "2017-11-02 -0.004004 -0.011373\n",
       "2017-11-03  0.009980  0.008516\n",
       "2017-11-06 -0.000497 -0.002865\n",
       "2017-11-07  0.003966 -0.006270\n",
       "2017-11-08 -0.004463  0.014128\n",
       "2017-11-09 -0.006482 -0.005607\n",
       "2017-11-10  0.024705 -0.004200\n",
       "2017-11-13 -0.074446 -0.006075\n",
       "2017-11-14 -0.060690 -0.001964\n",
       "2017-11-15  0.019912 -0.002176\n",
       "2017-11-16 -0.000548  0.004450\n",
       "2017-11-17 -0.002194 -0.003102\n",
       "2017-11-20 -0.012711  0.012352\n",
       "2017-11-21 -0.008378  0.004491\n",
       "2017-11-22  0.017788 -0.008489\n",
       "2017-11-24  0.002201 -0.001645\n",
       "2017-11-27 -0.003856 -0.002782\n",
       "2017-11-28  0.015878  0.015661\n",
       "2017-11-29 -0.000815 -0.000813\n",
       "\n",
       "[1740 rows x 2 columns]"
      ]
     },
     "execution_count": 6,
     "metadata": {},
     "output_type": "execute_result"
    }
   ],
   "source": [
    "sec_returns"
   ]
  },
  {
   "cell_type": "markdown",
   "metadata": {},
   "source": [
    "# General Electric"
   ]
  },
  {
   "cell_type": "code",
   "execution_count": 7,
   "metadata": {
    "collapsed": false
   },
   "outputs": [
    {
     "data": {
      "text/plain": [
       "0.00013509819524987763"
      ]
     },
     "execution_count": 7,
     "metadata": {},
     "output_type": "execute_result"
    }
   ],
   "source": [
    "sec_returns['GE'].mean()"
   ]
  },
  {
   "cell_type": "code",
   "execution_count": 8,
   "metadata": {
    "collapsed": false
   },
   "outputs": [
    {
     "data": {
      "text/plain": [
       "0.033774548812469406"
      ]
     },
     "execution_count": 8,
     "metadata": {},
     "output_type": "execute_result"
    }
   ],
   "source": [
    "sec_returns['GE'].mean() * 250"
   ]
  },
  {
   "cell_type": "code",
   "execution_count": 9,
   "metadata": {
    "collapsed": false
   },
   "outputs": [
    {
     "data": {
      "text/plain": [
       "0.013065872287163599"
      ]
     },
     "execution_count": 9,
     "metadata": {},
     "output_type": "execute_result"
    }
   ],
   "source": [
    "sec_returns['GE'].std()"
   ]
  },
  {
   "cell_type": "code",
   "execution_count": 10,
   "metadata": {
    "collapsed": false
   },
   "outputs": [
    {
     "data": {
      "text/plain": [
       "0.20658958022155288"
      ]
     },
     "execution_count": 10,
     "metadata": {},
     "output_type": "execute_result"
    }
   ],
   "source": [
    "sec_returns['GE'].std() * 250 ** 0.5"
   ]
  },
  {
   "cell_type": "markdown",
   "metadata": {},
   "source": [
    "# Beiersdorf"
   ]
  },
  {
   "cell_type": "code",
   "execution_count": 11,
   "metadata": {
    "collapsed": false
   },
   "outputs": [
    {
     "data": {
      "text/plain": [
       "0.00057601609578530519"
      ]
     },
     "execution_count": 11,
     "metadata": {},
     "output_type": "execute_result"
    }
   ],
   "source": [
    "sec_returns['BEI.DE'].mean()"
   ]
  },
  {
   "cell_type": "code",
   "execution_count": 12,
   "metadata": {
    "collapsed": false
   },
   "outputs": [
    {
     "data": {
      "text/plain": [
       "0.1440040239463263"
      ]
     },
     "execution_count": 12,
     "metadata": {},
     "output_type": "execute_result"
    }
   ],
   "source": [
    "sec_returns['BEI.DE'].mean() * 250"
   ]
  },
  {
   "cell_type": "code",
   "execution_count": 13,
   "metadata": {
    "collapsed": false
   },
   "outputs": [
    {
     "data": {
      "text/plain": [
       "0.011740871980313827"
      ]
     },
     "execution_count": 13,
     "metadata": {},
     "output_type": "execute_result"
    }
   ],
   "source": [
    "sec_returns['BEI.DE'].std()"
   ]
  },
  {
   "cell_type": "code",
   "execution_count": 14,
   "metadata": {
    "collapsed": false
   },
   "outputs": [
    {
     "data": {
      "text/plain": [
       "0.18563948587121645"
      ]
     },
     "execution_count": 14,
     "metadata": {},
     "output_type": "execute_result"
    }
   ],
   "source": [
    "sec_returns['BEI.DE'].std() * 250 ** 0.5"
   ]
  },
  {
   "cell_type": "code",
   "execution_count": 15,
   "metadata": {
    "collapsed": false
   },
   "outputs": [
    {
     "data": {
      "text/plain": [
       "GE        0.033775\n",
       "BEI.DE    0.144004\n",
       "dtype: float64"
      ]
     },
     "execution_count": 15,
     "metadata": {},
     "output_type": "execute_result"
    }
   ],
   "source": [
    "sec_returns[['GE', 'BEI.DE']].mean() * 250"
   ]
  },
  {
   "cell_type": "code",
   "execution_count": 16,
   "metadata": {
    "collapsed": false,
    "scrolled": true
   },
   "outputs": [
    {
     "data": {
      "text/plain": [
       "GE        0.206590\n",
       "BEI.DE    0.185639\n",
       "dtype: float64"
      ]
     },
     "execution_count": 16,
     "metadata": {},
     "output_type": "execute_result"
    }
   ],
   "source": [
    "sec_returns[['GE', 'BEI.DE']].std() * 250 ** 0.5"
   ]
  },
  {
   "cell_type": "code",
   "execution_count": 17,
   "metadata": {
    "collapsed": false
   },
   "outputs": [
    {
     "data": {
      "text/plain": [
       "0.00017071701862446975"
      ]
     },
     "execution_count": 17,
     "metadata": {},
     "output_type": "execute_result"
    }
   ],
   "source": [
    "GE_var = sec_returns['GE'].var()\n",
    "GE_var"
   ]
  },
  {
   "cell_type": "code",
   "execution_count": 18,
   "metadata": {
    "collapsed": false
   },
   "outputs": [
    {
     "data": {
      "text/plain": [
       "0.00013784807485811833"
      ]
     },
     "execution_count": 18,
     "metadata": {},
     "output_type": "execute_result"
    }
   ],
   "source": [
    "BEI_var = sec_returns['BEI.DE'].var()\n",
    "BEI_var"
   ]
  },
  {
   "cell_type": "code",
   "execution_count": 19,
   "metadata": {
    "collapsed": false
   },
   "outputs": [
    {
     "data": {
      "text/plain": [
       "0.042679254656117438"
      ]
     },
     "execution_count": 19,
     "metadata": {},
     "output_type": "execute_result"
    }
   ],
   "source": [
    "GE_var_a = sec_returns['GE'].var() * 250\n",
    "GE_var_a"
   ]
  },
  {
   "cell_type": "code",
   "execution_count": 21,
   "metadata": {
    "collapsed": false
   },
   "outputs": [
    {
     "data": {
      "text/plain": [
       "0.034462018714529585"
      ]
     },
     "execution_count": 21,
     "metadata": {},
     "output_type": "execute_result"
    }
   ],
   "source": [
    "BEI_var_a = sec_returns['BEI.DE'].var() * 250\n",
    "BEI_var_a"
   ]
  },
  {
   "cell_type": "code",
   "execution_count": 22,
   "metadata": {
    "collapsed": false
   },
   "outputs": [
    {
     "data": {
      "text/html": [
       "<div>\n",
       "<style scoped>\n",
       "    .dataframe tbody tr th:only-of-type {\n",
       "        vertical-align: middle;\n",
       "    }\n",
       "\n",
       "    .dataframe tbody tr th {\n",
       "        vertical-align: top;\n",
       "    }\n",
       "\n",
       "    .dataframe thead th {\n",
       "        text-align: right;\n",
       "    }\n",
       "</style>\n",
       "<table border=\"1\" class=\"dataframe\">\n",
       "  <thead>\n",
       "    <tr style=\"text-align: right;\">\n",
       "      <th></th>\n",
       "      <th>GE</th>\n",
       "      <th>BEI.DE</th>\n",
       "    </tr>\n",
       "  </thead>\n",
       "  <tbody>\n",
       "    <tr>\n",
       "      <th>GE</th>\n",
       "      <td>0.000171</td>\n",
       "      <td>0.000041</td>\n",
       "    </tr>\n",
       "    <tr>\n",
       "      <th>BEI.DE</th>\n",
       "      <td>0.000041</td>\n",
       "      <td>0.000138</td>\n",
       "    </tr>\n",
       "  </tbody>\n",
       "</table>\n",
       "</div>"
      ],
      "text/plain": [
       "              GE    BEI.DE\n",
       "GE      0.000171  0.000041\n",
       "BEI.DE  0.000041  0.000138"
      ]
     },
     "execution_count": 22,
     "metadata": {},
     "output_type": "execute_result"
    }
   ],
   "source": [
    "cov_matrix = sec_returns.cov()\n",
    "cov_matrix"
   ]
  },
  {
   "cell_type": "code",
   "execution_count": 23,
   "metadata": {
    "collapsed": false
   },
   "outputs": [
    {
     "data": {
      "text/html": [
       "<div>\n",
       "<style scoped>\n",
       "    .dataframe tbody tr th:only-of-type {\n",
       "        vertical-align: middle;\n",
       "    }\n",
       "\n",
       "    .dataframe tbody tr th {\n",
       "        vertical-align: top;\n",
       "    }\n",
       "\n",
       "    .dataframe thead th {\n",
       "        text-align: right;\n",
       "    }\n",
       "</style>\n",
       "<table border=\"1\" class=\"dataframe\">\n",
       "  <thead>\n",
       "    <tr style=\"text-align: right;\">\n",
       "      <th></th>\n",
       "      <th>GE</th>\n",
       "      <th>BEI.DE</th>\n",
       "    </tr>\n",
       "  </thead>\n",
       "  <tbody>\n",
       "    <tr>\n",
       "      <th>GE</th>\n",
       "      <td>0.042679</td>\n",
       "      <td>0.010188</td>\n",
       "    </tr>\n",
       "    <tr>\n",
       "      <th>BEI.DE</th>\n",
       "      <td>0.010188</td>\n",
       "      <td>0.034462</td>\n",
       "    </tr>\n",
       "  </tbody>\n",
       "</table>\n",
       "</div>"
      ],
      "text/plain": [
       "              GE    BEI.DE\n",
       "GE      0.042679  0.010188\n",
       "BEI.DE  0.010188  0.034462"
      ]
     },
     "execution_count": 23,
     "metadata": {},
     "output_type": "execute_result"
    }
   ],
   "source": [
    "cov_matrix_a = sec_returns.cov() * 250\n",
    "cov_matrix_a"
   ]
  },
  {
   "cell_type": "code",
   "execution_count": 24,
   "metadata": {
    "collapsed": false
   },
   "outputs": [
    {
     "data": {
      "text/html": [
       "<div>\n",
       "<style scoped>\n",
       "    .dataframe tbody tr th:only-of-type {\n",
       "        vertical-align: middle;\n",
       "    }\n",
       "\n",
       "    .dataframe tbody tr th {\n",
       "        vertical-align: top;\n",
       "    }\n",
       "\n",
       "    .dataframe thead th {\n",
       "        text-align: right;\n",
       "    }\n",
       "</style>\n",
       "<table border=\"1\" class=\"dataframe\">\n",
       "  <thead>\n",
       "    <tr style=\"text-align: right;\">\n",
       "      <th></th>\n",
       "      <th>GE</th>\n",
       "      <th>BEI.DE</th>\n",
       "    </tr>\n",
       "  </thead>\n",
       "  <tbody>\n",
       "    <tr>\n",
       "      <th>GE</th>\n",
       "      <td>1.000000</td>\n",
       "      <td>0.263765</td>\n",
       "    </tr>\n",
       "    <tr>\n",
       "      <th>BEI.DE</th>\n",
       "      <td>0.263765</td>\n",
       "      <td>1.000000</td>\n",
       "    </tr>\n",
       "  </tbody>\n",
       "</table>\n",
       "</div>"
      ],
      "text/plain": [
       "              GE    BEI.DE\n",
       "GE      1.000000  0.263765\n",
       "BEI.DE  0.263765  1.000000"
      ]
     },
     "execution_count": 24,
     "metadata": {},
     "output_type": "execute_result"
    }
   ],
   "source": [
    "corr_matrix = sec_returns.corr()\n",
    "corr_matrix"
   ]
  },
  {
   "cell_type": "code",
   "execution_count": null,
   "metadata": {
    "collapsed": true
   },
   "outputs": [],
   "source": []
  }
 ],
 "metadata": {
  "kernelspec": {
   "display_name": "Python 3",
   "language": "python",
   "name": "python3"
  },
  "language_info": {
   "codemirror_mode": {
    "name": "ipython",
    "version": 3
   },
   "file_extension": ".py",
   "mimetype": "text/x-python",
   "name": "python",
   "nbconvert_exporter": "python",
   "pygments_lexer": "ipython3",
   "version": "3.5.3"
  }
 },
 "nbformat": 4,
 "nbformat_minor": 1
}
